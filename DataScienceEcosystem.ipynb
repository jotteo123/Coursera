{
 "cells": [
  {
   "cell_type": "markdown",
   "id": "6640f31a-b46e-4b81-beff-800327ee9e85",
   "metadata": {},
   "source": [
    "# Data Science Tools and Ecosystem"
   ]
  },
  {
   "cell_type": "markdown",
   "id": "566ffcd2-cf31-4f79-b3f1-5d73674f3aa9",
   "metadata": {},
   "source": [
    "In this notebook, Data Science Tools and Ecosystem are summarized."
   ]
  },
  {
   "cell_type": "markdown",
   "id": "8794865e-a9af-493c-b824-8446965fb242",
   "metadata": {},
   "source": [
    "**Objectives:**\n",
    "\n",
    "- List popular languages for Data Science\n",
    "- List commonly used libraries used by Data Scientists\n",
    "- List common data science tools used by Data Scientists"
   ]
  },
  {
   "cell_type": "markdown",
   "id": "cc0e1da5-0e86-4e6e-85f9-cc29c0a76854",
   "metadata": {
    "tags": []
   },
   "source": [
    "Some of the popular languages that Data Scientists use are:\n",
    "\n",
    "1. Python\n",
    "2. R\n",
    "3. Structured Query Language\n",
    "4. Java"
   ]
  },
  {
   "cell_type": "markdown",
   "id": "66ae339a-2e23-4f4e-8e98-ac28931d67b2",
   "metadata": {},
   "source": [
    "Some of the commonly used libraries used by Data Scientists include: \n",
    "\n",
    "    1. Pandas\n",
    "    2. NumPy\n",
    "    3. Scikit-learn\n",
    "    4. Matlib"
   ]
  },
  {
   "cell_type": "markdown",
   "id": "8300d552-c916-4fd3-8874-73193dcc3142",
   "metadata": {},
   "source": [
    "## Data Science Tools"
   ]
  },
  {
   "cell_type": "markdown",
   "id": "c97f6106-6b8b-4b0c-9592-8c9114be3124",
   "metadata": {},
   "source": [
    "1. Jupyter Notebook / Jupyter Lab"
   ]
  },
  {
   "cell_type": "markdown",
   "id": "de7ff453-77d9-4c18-ad61-001fc0acc142",
   "metadata": {},
   "source": [
    "2. RStudio"
   ]
  },
  {
   "cell_type": "markdown",
   "id": "dc7082fc-8104-4016-b68e-10921201abce",
   "metadata": {},
   "source": [
    "3. Spyder (Scientific Python Development Environment)"
   ]
  },
  {
   "cell_type": "markdown",
   "id": "be1ff0ed-ecfe-498f-b34a-8460809f648c",
   "metadata": {},
   "source": [
    "### Below are a few examples of evaluating arithmetic expressions in Python"
   ]
  },
  {
   "cell_type": "code",
   "execution_count": 32,
   "id": "0d8d3402-febc-4836-b4d5-7113572a84d8",
   "metadata": {},
   "outputs": [
    {
     "name": "stdout",
     "output_type": "stream",
     "text": [
      "17\n"
     ]
    }
   ],
   "source": [
    "# This a simple arithmetic expression to mutiply then add integers\n",
    "print ((3*4)+5)"
   ]
  },
  {
   "cell_type": "code",
   "execution_count": 34,
   "id": "2d71125c-25f3-4e71-8284-afbdaa7cac76",
   "metadata": {},
   "outputs": [
    {
     "name": "stdout",
     "output_type": "stream",
     "text": [
      "3.3333333333333335\n"
     ]
    }
   ],
   "source": [
    "# This will convert 200 minutes to hours by diving by 60\n",
    "minutes = 200\n",
    "hours = minutes / 60\n",
    "print(hours)"
   ]
  },
  {
   "cell_type": "markdown",
   "id": "0af848f6-21b7-43c0-adac-7fb614687b55",
   "metadata": {},
   "source": [
    "## Author\n",
    "\n",
    "Jotham Teo"
   ]
  }
 ],
 "metadata": {
  "kernelspec": {
   "display_name": "anaconda-panel-2023.05-py310",
   "language": "python",
   "name": "conda-env-anaconda-panel-2023.05-py310-py"
  },
  "language_info": {
   "codemirror_mode": {
    "name": "ipython",
    "version": 3
   },
   "file_extension": ".py",
   "mimetype": "text/x-python",
   "name": "python",
   "nbconvert_exporter": "python",
   "pygments_lexer": "ipython3",
   "version": "3.11.4"
  }
 },
 "nbformat": 4,
 "nbformat_minor": 5
}
